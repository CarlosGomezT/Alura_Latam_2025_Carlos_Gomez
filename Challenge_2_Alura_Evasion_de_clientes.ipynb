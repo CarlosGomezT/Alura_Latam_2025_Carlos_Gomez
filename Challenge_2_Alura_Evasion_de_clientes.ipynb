{
  "nbformat": 4,
  "nbformat_minor": 0,
  "metadata": {
    "colab": {
      "provenance": [],
      "authorship_tag": "ABX9TyNeNbOW2ujPbj8xO9nxG/tZ",
      "include_colab_link": true
    },
    "kernelspec": {
      "name": "python3",
      "display_name": "Python 3"
    },
    "language_info": {
      "name": "python"
    }
  },
  "cells": [
    {
      "cell_type": "markdown",
      "metadata": {
        "id": "view-in-github",
        "colab_type": "text"
      },
      "source": [
        "<a href=\"https://colab.research.google.com/github/CarlosGomezT/Alura_Latam_2025_Carlos_Gomez/blob/main/Challenge_2_Alura_Evasion_de_clientes.ipynb\" target=\"_parent\"><img src=\"https://colab.research.google.com/assets/colab-badge.svg\" alt=\"Open In Colab\"/></a>"
      ]
    },
    {
      "cell_type": "code",
      "execution_count": 2,
      "metadata": {
        "id": "fjrmDvNwQG18",
        "colab": {
          "base_uri": "https://localhost:8080/"
        },
        "outputId": "0ab6ee19-ba14-4fd9-e4d6-47dc1b45bd30"
      },
      "outputs": [
        {
          "output_type": "stream",
          "name": "stdout",
          "text": [
            "Cambio 1\n"
          ]
        }
      ],
      "source": [
        "print('Cambio 1')"
      ]
    },
    {
      "cell_type": "code",
      "source": [
        "asdasfadsfasdfasdfasd"
      ],
      "metadata": {
        "id": "2JOHC0UIQfE8"
      },
      "execution_count": null,
      "outputs": []
    }
  ]
}